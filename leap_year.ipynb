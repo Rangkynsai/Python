{
 "cells": [
  {
   "cell_type": "code",
   "execution_count": 8,
   "metadata": {},
   "outputs": [
    {
     "name": "stdout",
     "output_type": "stream",
     "text": [
      "Enter the year to check: 2005\n",
      "It is a leap year!!\n",
      " Thank You \n"
     ]
    }
   ],
   "source": [
    "def leap_year(year):\n",
    "    if year % 4 and year % 100!=0 or year % 400 == 0:\n",
    "        print('It is a leap year!!')\n",
    "    else:\n",
    "        print('Not a leap year!!')\n",
    "n = int(input(\"Enter the year to check: \"))\n",
    "leap_year(n)\n",
    "print(' Thank You ')"
   ]
  }
 ],
 "metadata": {
  "kernelspec": {
   "display_name": "Python 3",
   "language": "python",
   "name": "python3"
  },
  "language_info": {
   "codemirror_mode": {
    "name": "ipython",
    "version": 3
   },
   "file_extension": ".py",
   "mimetype": "text/x-python",
   "name": "python",
   "nbconvert_exporter": "python",
   "pygments_lexer": "ipython3",
   "version": "3.7.1"
  }
 },
 "nbformat": 4,
 "nbformat_minor": 2
}
