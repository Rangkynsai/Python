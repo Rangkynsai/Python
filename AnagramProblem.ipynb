{
 "cells": [
  {
   "cell_type": "code",
   "execution_count": 6,
   "metadata": {},
   "outputs": [
    {
     "name": "stdout",
     "output_type": "stream",
     "text": [
      "Enter the first inputsocail\n",
      "Enter the second inputsocial\n",
      "Anagram\n",
      "['a', 'c', 'i', 'l', 'o', 's']\n",
      "['a', 'c', 'i', 'l', 'o', 's']\n"
     ]
    }
   ],
   "source": [
    "def anagram(a,b):\n",
    "    if a==b:\n",
    "        print('Anagram')\n",
    "    else:\n",
    "        print(\"Not Anagram\")\n",
    "in1 = sorted(input('Enter the first input'))\n",
    "in2 = sorted(input('Enter the second input'))\n",
    "anagram(in1,in2) \n",
    "print(in1)\n",
    "print(in2)"
   ]
  },
  {
   "cell_type": "code",
   "execution_count": null,
   "metadata": {},
   "outputs": [],
   "source": []
  }
 ],
 "metadata": {
  "kernelspec": {
   "display_name": "Python 3",
   "language": "python",
   "name": "python3"
  },
  "language_info": {
   "codemirror_mode": {
    "name": "ipython",
    "version": 3
   },
   "file_extension": ".py",
   "mimetype": "text/x-python",
   "name": "python",
   "nbconvert_exporter": "python",
   "pygments_lexer": "ipython3",
   "version": "3.7.1"
  }
 },
 "nbformat": 4,
 "nbformat_minor": 2
}
